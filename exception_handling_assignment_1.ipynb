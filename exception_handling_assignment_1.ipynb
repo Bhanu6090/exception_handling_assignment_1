{
 "cells": [
  {
   "cell_type": "markdown",
   "id": "ff92eec4-392c-402c-a98d-d95de8c45ac7",
   "metadata": {},
   "source": [
    "what is an exception in python ? write the difference between exception and syntax errors\n",
    "ChatGPT\n",
    "In Python, an exception is an error that occurs during the execution of a program due to some unexpected condition or behavior. When such an error occurs, Python raises an exception, which can be caught and handled by the program to prevent the program from crashing.\n",
    "\n",
    "Exceptions can occur for various reasons, such as:\n",
    "\n",
    "Division by zero: Trying to divide a number by zero will raise a ZeroDivisionError.\n",
    "NameError: Using a variable that has not been defined will raise a NameError.\n",
    "IndexError: Accessing an index that is out of range in a list or sequence will raise an IndexError.\n",
    "FileNotFoundError: Trying to open a file that does not exist will raise a FileNotFoundError.\n",
    "In contrast, syntax errors are errors that occur when the Python interpreter cannot interpret the code due to incorrect syntax. These errors happen before the code is executed and prevent the program from running at all. Some common syntax errors include missing colons, incorrect indentation, or using an invalid Python keyword.\n",
    "\n",
    "Here's the key difference between exceptions and syntax errors:\n",
    "\n",
    "Occurrence:\n",
    "\n",
    "Exceptions occur during the execution of the program when Python encounters unexpected conditions or situations.\n",
    "Syntax errors occur before the program is executed, during the parsing of the code when the interpreter tries to understand the program's structure.\n",
    "Impact on Execution:\n",
    "\n",
    "Exceptions can be caught and handled using try-except blocks, allowing the program to continue executing even if an error occurs.\n",
    "Syntax errors prevent the program from running at all since they indicate that the code is not written correctly and cannot be parsed by the interpreter.\n",
    "Handling:\n",
    "\n",
    "Exceptions can be anticipated and handled by the programmer to provide graceful error handling and recovery mechanisms.\n",
    "Syntax errors need to be fixed directly in the code by identifying and correcting the syntax mistake.\n",
    "Example of handling an exception in Python using a try-except block:\n",
    "\n",
    "try:\n",
    "    x = 10 / 0\n",
    "except ZeroDivisionError as e:\n",
    "    print(\"Error:\", e)\n",
    "# You can provide a graceful response or alternative action here.\n",
    "\n",
    "Example of a syntax error in Python:\n",
    "\n",
    "# Syntax Error: Missing colon at the end of the 'if' statement.\n",
    "if x > 5\n",
    "    print(\"x is greater than 5.\")\n",
    "In summary, exceptions are runtime errors that occur during program execution and can be handled, while syntax errors occur before the program runs and need to be fixed in the code directly."
   ]
  },
  {
   "cell_type": "raw",
   "id": "8cac6355-99e7-4800-9214-ad183e7577d7",
   "metadata": {},
   "source": [
    "Q2 . what happens when an exception is not handled ? explain an example"
   ]
  },
  {
   "cell_type": "markdown",
   "id": "abbbe5d5-162f-4218-b5ff-8140046474f6",
   "metadata": {},
   "source": [
    "answere - When an exception is not handled in Python, it leads to the termination of the program with an error message that indicates the type of exception and the traceback (a stack trace that shows the sequence of function calls that led to the exception). This abrupt termination is called an \"unhandled exception\" or an \"uncaught exception.\n",
    "example"
   ]
  },
  {
   "cell_type": "code",
   "execution_count": 1,
   "id": "5e9c4ab2-5df7-4685-ba8a-19d74d8bbf0c",
   "metadata": {},
   "outputs": [
    {
     "ename": "ZeroDivisionError",
     "evalue": "division by zero",
     "output_type": "error",
     "traceback": [
      "\u001b[0;31m---------------------------------------------------------------------------\u001b[0m",
      "\u001b[0;31mZeroDivisionError\u001b[0m                         Traceback (most recent call last)",
      "Cell \u001b[0;32mIn[1], line 12\u001b[0m\n\u001b[1;32m      9\u001b[0m     \u001b[38;5;28mprint\u001b[39m(\u001b[38;5;124m\"\u001b[39m\u001b[38;5;124mResult:\u001b[39m\u001b[38;5;124m\"\u001b[39m, result)\n\u001b[1;32m     11\u001b[0m \u001b[38;5;28;01mif\u001b[39;00m \u001b[38;5;18m__name__\u001b[39m \u001b[38;5;241m==\u001b[39m \u001b[38;5;124m\"\u001b[39m\u001b[38;5;124m__main__\u001b[39m\u001b[38;5;124m\"\u001b[39m:\n\u001b[0;32m---> 12\u001b[0m     \u001b[43mmain\u001b[49m\u001b[43m(\u001b[49m\u001b[43m)\u001b[49m\n",
      "Cell \u001b[0;32mIn[1], line 8\u001b[0m, in \u001b[0;36mmain\u001b[0;34m()\u001b[0m\n\u001b[1;32m      6\u001b[0m num1 \u001b[38;5;241m=\u001b[39m \u001b[38;5;241m10\u001b[39m\n\u001b[1;32m      7\u001b[0m num2 \u001b[38;5;241m=\u001b[39m \u001b[38;5;241m0\u001b[39m\n\u001b[0;32m----> 8\u001b[0m result \u001b[38;5;241m=\u001b[39m \u001b[43mdivide_numbers\u001b[49m\u001b[43m(\u001b[49m\u001b[43mnum1\u001b[49m\u001b[43m,\u001b[49m\u001b[43m \u001b[49m\u001b[43mnum2\u001b[49m\u001b[43m)\u001b[49m\n\u001b[1;32m      9\u001b[0m \u001b[38;5;28mprint\u001b[39m(\u001b[38;5;124m\"\u001b[39m\u001b[38;5;124mResult:\u001b[39m\u001b[38;5;124m\"\u001b[39m, result)\n",
      "Cell \u001b[0;32mIn[1], line 2\u001b[0m, in \u001b[0;36mdivide_numbers\u001b[0;34m(a, b)\u001b[0m\n\u001b[1;32m      1\u001b[0m \u001b[38;5;28;01mdef\u001b[39;00m \u001b[38;5;21mdivide_numbers\u001b[39m(a, b):\n\u001b[0;32m----> 2\u001b[0m     result \u001b[38;5;241m=\u001b[39m \u001b[43ma\u001b[49m\u001b[43m \u001b[49m\u001b[38;5;241;43m/\u001b[39;49m\u001b[43m \u001b[49m\u001b[43mb\u001b[49m\n\u001b[1;32m      3\u001b[0m     \u001b[38;5;28;01mreturn\u001b[39;00m result\n",
      "\u001b[0;31mZeroDivisionError\u001b[0m: division by zero"
     ]
    }
   ],
   "source": [
    "def divide_numbers(a, b):\n",
    "    result = a / b\n",
    "    return result\n",
    "\n",
    "def main():\n",
    "    num1 = 10\n",
    "    num2 = 0\n",
    "    result = divide_numbers(num1, num2)\n",
    "    print(\"Result:\", result)\n",
    "\n",
    "if __name__ == \"__main__\":\n",
    "    main()\n"
   ]
  },
  {
   "cell_type": "markdown",
   "id": "2c4c9c60-ec86-4073-bf3e-33ec1b6a22b1",
   "metadata": {},
   "source": [
    "In this example, we have a function divide_numbers that takes two numbers as input and returns their division. In the main function, we attempt to divide num1 by num2, where num2 is set to 0.\n",
    "\n",
    "Now, when this code is executed, it will raise a ZeroDivisionError because we are trying to divide by zero. Since we haven't provided any exception handling, the program will terminate and display an error message like this:"
   ]
  },
  {
   "cell_type": "raw",
   "id": "d46df690-1d88-417d-b376-6452abf30620",
   "metadata": {},
   "source": [
    "Traceback (most recent call last):\n",
    "  File \"example.py\", line 10, in <module>\n",
    "    main()\n",
    "  File \"example.py\", line 7, in main\n",
    "    result = divide_numbers(num1, num2)\n",
    "  File \"example.py\", line 2, in divide_numbers\n",
    "    result = a / b\n",
    "ZeroDivisionError: division by zero\n",
    "    \n"
   ]
  },
  {
   "cell_type": "markdown",
   "id": "04b77555-a2e2-47ba-974d-970802ce8514",
   "metadata": {},
   "source": [
    "The traceback shows that the exception occurred in the divide_numbers function at line 2, where the division operation was attempted. It then shows that the exception was raised during the execution of the main function at line 7, where divide_numbers was called with num1=10 and num2=0. The traceback continues with the last line being the module-level code where the main() function was called.\n",
    "\n",
    "Since there is no exception handling in the code, the program terminates at this point, and any code that follows the exception won't be executed.\n",
    "\n",
    "Handling the exception with a try-except block allows the program to continue running and gives the programmer a chance to provide an alternative course of action or gracefully handle the error. For example:"
   ]
  },
  {
   "cell_type": "code",
   "execution_count": 2,
   "id": "ae4ead59-8936-4c33-93c5-fff158477467",
   "metadata": {},
   "outputs": [
    {
     "name": "stdout",
     "output_type": "stream",
     "text": [
      "Error: division by zero\n"
     ]
    }
   ],
   "source": [
    "def divide_numbers(a, b):\n",
    "    result = a / b\n",
    "    return result\n",
    "\n",
    "def main():\n",
    "    num1 = 10\n",
    "    num2 = 0\n",
    "    try:\n",
    "        result = divide_numbers(num1, num2)\n",
    "        print(\"Result:\", result)\n",
    "    except ZeroDivisionError as e:\n",
    "        print(\"Error:\", e)\n",
    "        # You can provide a graceful response or alternative action here.\n",
    "\n",
    "if __name__ == \"__main__\":\n",
    "    main()\n"
   ]
  },
  {
   "cell_type": "markdown",
   "id": "92fe6ae6-8368-40cf-8c33-fe84247b1152",
   "metadata": {},
   "source": [
    "Q3 .which python statement are used to catch and handle exception ? explain with an example"
   ]
  },
  {
   "cell_type": "raw",
   "id": "a395843c-a589-48da-bf22-3e5a6e3a51f0",
   "metadata": {},
   "source": [
    "In Python, you can catch and handle exceptions using the try, except, and optionally else and finally blocks. This mechanism allows you to gracefully handle errors that may occur during the execution of your code, preventing the program from crashing and providing a way to respond to unexpected situations.\n",
    "\n",
    "The basic structure of a try-except block is as follows:\n",
    "try:\n",
    "    # Code that may raise an exception\n",
    "except SomeExceptionType as e:\n",
    "    # Code to handle the exception\n",
    "else:\n",
    "    # Code that runs if no exception occurs (optional)\n",
    "finally:\n",
    "    # Code that always runs, whether there was an exception or not (optional)\n"
   ]
  },
  {
   "cell_type": "code",
   "execution_count": 4,
   "id": "27e774f0-3e95-40fd-a4e6-a2d325f1d9dc",
   "metadata": {},
   "outputs": [
    {
     "name": "stdout",
     "output_type": "stream",
     "text": [
      "Error: division by zero\n",
      "Division cannot be performed.\n"
     ]
    }
   ],
   "source": [
    "#example\n",
    "def divide_numbers(a, b):\n",
    "    try:\n",
    "        result = a / b\n",
    "        return result\n",
    "    except ZeroDivisionError as e:\n",
    "        print(\"Error:\", e)\n",
    "        return None\n",
    "\n",
    "def main():\n",
    "    num1 = 10\n",
    "    num2 = 0\n",
    "    result = divide_numbers(num1, num2)\n",
    "    if result is not None:\n",
    "        print(\"Result:\", result)\n",
    "    else:\n",
    "        print(\"Division cannot be performed.\")\n",
    "\n",
    "if __name__ == \"__main__\":\n",
    "    main()\n"
   ]
  },
  {
   "cell_type": "markdown",
   "id": "0a87fb46-1321-48f2-84e5-b32ffddd5ad3",
   "metadata": {},
   "source": [
    "Q4 . Explain with an example:\n",
    "  "
   ]
  },
  {
   "cell_type": "raw",
   "id": "a8a83ee6-076e-421c-8743-6284661c9ccd",
   "metadata": {},
   "source": [
    " a. try and else\n",
    "Certainly! In Python, the else block can be used along with the try and except blocks to define a block of code that will be executed only if no exceptions occur within the try block. This is helpful when you want to separate the code that runs in case of success (no exceptions) from the code that handles exceptions."
   ]
  },
  {
   "cell_type": "code",
   "execution_count": 5,
   "id": "22fb4316-42b3-4539-8766-9e33d2485bed",
   "metadata": {},
   "outputs": [
    {
     "name": "stdin",
     "output_type": "stream",
     "text": [
      "Enter the first number:  22\n",
      "Enter the second number:  2\n"
     ]
    },
    {
     "name": "stdout",
     "output_type": "stream",
     "text": [
      "Division result: 11.0\n"
     ]
    }
   ],
   "source": [
    "def divide_numbers():\n",
    "    try:\n",
    "        num1 = int(input(\"Enter the first number: \"))\n",
    "        num2 = int(input(\"Enter the second number: \"))\n",
    "        result = num1 / num2\n",
    "    except ValueError:\n",
    "        print(\"Invalid input! Please enter valid integers.\")\n",
    "    except ZeroDivisionError:\n",
    "        print(\"Error: Cannot divide by zero.\")\n",
    "    else:\n",
    "        print(\"Division result:\", result)\n",
    "\n",
    "def main():\n",
    "    divide_numbers()\n",
    "\n",
    "if __name__ == \"__main__\":\n",
    "    main()\n"
   ]
  },
  {
   "cell_type": "raw",
   "id": "bd70c6ba-6f2d-498a-ae0b-7a0a35a2c8ea",
   "metadata": {},
   "source": [
    "b. finally \n",
    "In Python, the finally block is used in conjunction with the try and except blocks to define a block of code that will always be executed, regardless of whether an exception occurred or not. The finally block is useful for performing cleanup tasks or releasing resources that need to be executed regardless of the outcome of the code in the try block."
   ]
  },
  {
   "cell_type": "code",
   "execution_count": null,
   "id": "56b215d3-8027-45e3-807b-084843d88837",
   "metadata": {},
   "outputs": [],
   "source": [
    "#example\n",
    "def read_file_contents(filename):\n",
    "    try:\n",
    "        file = open(filename, 'r')\n",
    "        content = file.read()\n",
    "    except FileNotFoundError:\n",
    "        print(f\"Error: File '{filename}' not found.\")\n",
    "    except Exception as e:\n",
    "        print(f\"An unexpected error occurred: {e}\")\n",
    "    else:\n",
    "        print(\"File contents:\")\n",
    "        print(content)\n",
    "    finally:\n",
    "        if 'file' in locals():  # Checking if the 'file' variable exists\n",
    "            file.close()\n",
    "            print(\"File closed successfully.\")\n",
    "\n",
    "def main():\n",
    "    filename = \"example.txt\"\n",
    "    read_file_contents(filename)\n",
    "\n",
    "if __name__ == \"__main__\":\n",
    "    main()\n"
   ]
  },
  {
   "cell_type": "raw",
   "id": "21e0db2d-7e6e-46d3-9ccc-5e51e87ba51b",
   "metadata": {},
   "source": [
    "c.raise\n",
    "In Python, the raise statement is used to explicitly raise an exception. It allows you to create custom exceptions or raise built-in exceptions in specific situations where your code encounters an error or condition that you want to handle using exception mechanisms.\n",
    "The basic syntax of the raise statement is as follows:\n"
   ]
  },
  {
   "cell_type": "code",
   "execution_count": null,
   "id": "4fad2392-aeb1-4da4-97fe-4308439c5b98",
   "metadata": {},
   "outputs": [],
   "source": [
    "def divide_numbers(a, b):\n",
    "    if b == 0:\n",
    "        raise ZeroDivisionError(\"Division by zero is not allowed.\")\n",
    "    return a / b\n",
    "\n",
    "try:\n",
    "    result = divide_numbers(10, 0)\n",
    "except ZeroDivisionError as e:\n",
    "    print(\"Error:\", e)\n"
   ]
  },
  {
   "cell_type": "markdown",
   "id": "89790e94-379c-4100-8e88-08fa83f8b80c",
   "metadata": {},
   "source": [
    "Q5. what is custom exception handling ?"
   ]
  },
  {
   "cell_type": "raw",
   "id": "b9efb922-af61-4e1d-85ad-754c180a6315",
   "metadata": {},
   "source": [
    "In Python, custom exceptions are user-defined exception classes that allow you to create your own specific types of exceptions to handle exceptional situations in your code. By creating custom exceptions, you can provide more informative and meaningful error messages and differentiate between different types of errors that might occur in your application.\n",
    "\n",
    "Custom exceptions are created by defining new classes that inherit from the built-in Exception class or one of its subclasses. Since all exceptions in Python are subclasses of the Exception class, creating a custom exception involves defining a new class that inherits from Exception."
   ]
  },
  {
   "cell_type": "code",
   "execution_count": null,
   "id": "ada48d8a-7261-4422-8684-3e66eda13546",
   "metadata": {},
   "outputs": [],
   "source": [
    "class MyCustomException(Exception):\n",
    "    def __init__(self, message):\n",
    "        super().__init__(message)\n",
    "        self.message = message\n",
    "\n",
    "def divide_numbers(a, b):\n",
    "    if b == 0:\n",
    "        raise MyCustomException(\"Division by zero is not allowed.\")\n",
    "    return a / b\n",
    "\n",
    "try:\n",
    "    result = divide_numbers(10, 0)\n",
    "except MyCustomException as e:\n",
    "    print(\"Error:\", e)\n"
   ]
  },
  {
   "cell_type": "markdown",
   "id": "d0615b15-0f07-45ec-8749-4f8ce53a4f37",
   "metadata": {},
   "source": [
    "Q6. create a custom exception class. use this class to handle an exception ."
   ]
  },
  {
   "cell_type": "code",
   "execution_count": null,
   "id": "a2c5a6dd-ca7c-4ed8-9378-3e968cfd44d6",
   "metadata": {},
   "outputs": [],
   "source": [
    "class InvalidInputError(Exception):\n",
    "    def __init__(self, message):\n",
    "        super().__init__(message)\n",
    "        self.message = message\n",
    "\n",
    "def divide_numbers():\n",
    "    try:\n",
    "        num1 = int(input(\"Enter the first number: \"))\n",
    "        num2 = int(input(\"Enter the second number: \"))\n",
    "        if num2 == 0:\n",
    "            raise InvalidInputError(\"Division by zero is not allowed.\")\n",
    "        result = num1 / num2\n",
    "    except ValueError:\n",
    "        print(\"Invalid input! Please enter valid integers.\")\n",
    "    except InvalidInputError as e:\n",
    "        print(\"Error:\", e)\n",
    "    else:\n",
    "        print(\"Division result:\", result)\n",
    "\n",
    "def main():\n",
    "    divide_numbers()\n",
    "\n",
    "if __name__ == \"__main__\":\n",
    "    main()\n"
   ]
  }
 ],
 "metadata": {
  "kernelspec": {
   "display_name": "Python 3 (ipykernel)",
   "language": "python",
   "name": "python3"
  },
  "language_info": {
   "codemirror_mode": {
    "name": "ipython",
    "version": 3
   },
   "file_extension": ".py",
   "mimetype": "text/x-python",
   "name": "python",
   "nbconvert_exporter": "python",
   "pygments_lexer": "ipython3",
   "version": "3.10.8"
  }
 },
 "nbformat": 4,
 "nbformat_minor": 5
}
